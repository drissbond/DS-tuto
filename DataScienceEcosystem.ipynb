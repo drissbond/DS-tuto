{
  "nbformat": 4,
  "nbformat_minor": 0,
  "metadata": {
    "colab": {
      "provenance": []
    },
    "kernelspec": {
      "name": "python3",
      "display_name": "Python 3"
    },
    "language_info": {
      "name": "python"
    }
  },
  "cells": [
    {
      "cell_type": "markdown",
      "source": [
        "<h1>DataScience Tools and Ecosystem<h1>"
      ],
      "metadata": {
        "id": "cG6hZ_e-1QaP"
      }
    },
    {
      "cell_type": "markdown",
      "source": [
        "### In this notebook Data Science Tools and ecosystem are summerized."
      ],
      "metadata": {
        "id": "IbzPswe621nU"
      }
    },
    {
      "cell_type": "markdown",
      "source": [
        "**Objectives :**\n",
        "\n",
        "\n",
        "*   List popular laguages for Data Science\n",
        "*   List popular librarie used by Data Scientists\n",
        "* List some developpment environment open source tools\n",
        "* Process some arithmetic operations\n",
        "\n",
        "<H2> Author</H2>\n",
        "Driss BOULAHRIS\n",
        "\n"
      ],
      "metadata": {
        "id": "wbCzRIUr_cTd"
      }
    },
    {
      "cell_type": "markdown",
      "source": [],
      "metadata": {
        "id": "K0zyFnhu8h5F"
      }
    },
    {
      "cell_type": "markdown",
      "source": [
        "Some of the popular languages that Data Scientists use are :\n",
        "\n",
        "\n",
        "1. Python\n",
        "2. R\n",
        "3. Java\n",
        "4. Julia\n",
        "\n",
        "\n",
        "\n"
      ],
      "metadata": {
        "id": "fB7oXj353pub"
      }
    },
    {
      "cell_type": "markdown",
      "source": [
        "Some of the commonly used data science libraries by data scientists are\n",
        "\n",
        "\n",
        "1.   TensorFlow\n",
        "2.   NumPy\n",
        "3. PyTorch\n",
        "4. SciKit-Learn\n",
        "5. Matplotlib\n",
        "\n"
      ],
      "metadata": {
        "id": "SAnairZg4u6E"
      }
    },
    {
      "cell_type": "markdown",
      "source": [
        "| Data Science Tools |\n",
        "|:--------:|\n",
        "|  Jupyter NoteBook   |\n",
        "|  R Studio    |\n",
        "|  Zeppelin   |"
      ],
      "metadata": {
        "id": "mWQexXGN6EPc"
      }
    },
    {
      "cell_type": "markdown",
      "source": [
        "<h3> Bellow are a few examples of evaluating arithmetic expressions in python <h3>"
      ],
      "metadata": {
        "id": "N3QJPQUy8WjZ"
      }
    },
    {
      "cell_type": "code",
      "execution_count": 1,
      "metadata": {
        "colab": {
          "base_uri": "https://localhost:8080/"
        },
        "id": "sVDn8foo09Jg",
        "outputId": "4adacec8-9442-4120-a3e8-85a7b185970f"
      },
      "outputs": [
        {
          "output_type": "execute_result",
          "data": {
            "text/plain": [
              "17"
            ]
          },
          "metadata": {},
          "execution_count": 1
        }
      ],
      "source": [
        "# this is a simple arithmetic operation to multiply and then add integers\n",
        "(3*4)+5"
      ]
    },
    {
      "cell_type": "code",
      "source": [
        "#This will convert 200 minutes to hours by dividing by 60\n",
        "200/60"
      ],
      "metadata": {
        "colab": {
          "base_uri": "https://localhost:8080/"
        },
        "id": "FR5s-vq6-Vlb",
        "outputId": "60a2c9ca-d3fd-4d7d-814c-1d146ef11085"
      },
      "execution_count": 2,
      "outputs": [
        {
          "output_type": "execute_result",
          "data": {
            "text/plain": [
              "3.3333333333333335"
            ]
          },
          "metadata": {},
          "execution_count": 2
        }
      ]
    }
  ]
}